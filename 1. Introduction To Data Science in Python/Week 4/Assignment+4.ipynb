{
 "cells": [
  {
   "cell_type": "markdown",
   "metadata": {},
   "source": [
    "---\n",
    "\n",
    "_You are currently looking at **version 1.1** of this notebook. To download notebooks and datafiles, as well as get help on Jupyter notebooks in the Coursera platform, visit the [Jupyter Notebook FAQ](https://www.coursera.org/learn/python-data-analysis/resources/0dhYG) course resource._\n",
    "\n",
    "---"
   ]
  },
  {
   "cell_type": "code",
   "execution_count": 2,
   "metadata": {
    "collapsed": true
   },
   "outputs": [],
   "source": [
    "import pandas as pd\n",
    "import numpy as np\n",
    "from scipy.stats import ttest_ind"
   ]
  },
  {
   "cell_type": "markdown",
   "metadata": {},
   "source": [
    "# Assignment 4 - Hypothesis Testing\n",
    "This assignment requires more individual learning than previous assignments - you are encouraged to check out the [pandas documentation](http://pandas.pydata.org/pandas-docs/stable/) to find functions or methods you might not have used yet, or ask questions on [Stack Overflow](http://stackoverflow.com/) and tag them as pandas and python related. And of course, the discussion forums are open for interaction with your peers and the course staff.\n",
    "\n",
    "Definitions:\n",
    "* A _quarter_ is a specific three month period, Q1 is January through March, Q2 is April through June, Q3 is July through September, Q4 is October through December.\n",
    "* A _recession_ is defined as starting with two consecutive quarters of GDP decline, and ending with two consecutive quarters of GDP growth.\n",
    "* A _recession bottom_ is the quarter within a recession which had the lowest GDP.\n",
    "* A _university town_ is a city which has a high percentage of university students compared to the total population of the city.\n",
    "\n",
    "**Hypothesis**: University towns have their mean housing prices less effected by recessions. Run a t-test to compare the ratio of the mean price of houses in university towns the quarter before the recession starts compared to the recession bottom. (`price_ratio=quarter_before_recession/recession_bottom`)\n",
    "\n",
    "The following data files are available for this assignment:\n",
    "* From the [Zillow research data site](http://www.zillow.com/research/data/) there is housing data for the United States. In particular the datafile for [all homes at a city level](http://files.zillowstatic.com/research/public/City/City_Zhvi_AllHomes.csv), ```City_Zhvi_AllHomes.csv```, has median home sale prices at a fine grained level.\n",
    "* From the Wikipedia page on college towns is a list of [university towns in the United States](https://en.wikipedia.org/wiki/List_of_college_towns#College_towns_in_the_United_States) which has been copy and pasted into the file ```university_towns.txt```.\n",
    "* From Bureau of Economic Analysis, US Department of Commerce, the [GDP over time](http://www.bea.gov/national/index.htm#gdp) of the United States in current dollars (use the chained value in 2009 dollars), in quarterly intervals, in the file ```gdplev.xls```. For this assignment, only look at GDP data from the first quarter of 2000 onward.\n",
    "\n",
    "Each function in this assignment below is worth 10%, with the exception of ```run_ttest()```, which is worth 50%."
   ]
  },
  {
   "cell_type": "code",
   "execution_count": 9,
   "metadata": {
    "collapsed": true
   },
   "outputs": [],
   "source": [
    "# Use this dictionary to map state names to two letter acronyms\n",
    "states = {'OH': 'Ohio', 'KY': 'Kentucky', 'AS': 'American Samoa', 'NV': 'Nevada', 'WY': 'Wyoming', 'NA': 'National', \n",
    "          'AL': 'Alabama', 'MD': 'Maryland', 'AK': 'Alaska', 'UT': 'Utah', 'OR': 'Oregon', 'MT': 'Montana', 'IL': 'Illinois', \n",
    "          'TN': 'Tennessee', 'DC': 'District of Columbia', 'VT': 'Vermont', 'ID': 'Idaho', 'AR': 'Arkansas', 'ME': 'Maine', \n",
    "          'WA': 'Washington', 'HI': 'Hawaii', 'WI': 'Wisconsin', 'MI': 'Michigan', 'IN': 'Indiana', 'NJ': 'New Jersey', \n",
    "          'AZ': 'Arizona', 'GU': 'Guam', 'MS': 'Mississippi', 'PR': 'Puerto Rico', 'NC': 'North Carolina', 'TX': 'Texas', \n",
    "          'SD': 'South Dakota', 'MP': 'Northern Mariana Islands', 'IA': 'Iowa', 'MO': 'Missouri', 'CT': 'Connecticut', \n",
    "          'WV': 'West Virginia', 'SC': 'South Carolina', 'LA': 'Louisiana', 'KS': 'Kansas', 'NY': 'New York', 'NE': 'Nebraska', \n",
    "          'OK': 'Oklahoma', 'FL': 'Florida', 'CA': 'California', 'CO': 'Colorado', 'PA': 'Pennsylvania', 'DE': 'Delaware', \n",
    "          'NM': 'New Mexico', 'RI': 'Rhode Island', 'MN': 'Minnesota', 'VI': 'Virgin Islands', 'NH': 'New Hampshire', \n",
    "\n",
    "          'MA': 'Massachusetts', 'GA': 'Georgia', 'ND': 'North Dakota', 'VA': 'Virginia'}"
   ]
  },
  {
   "cell_type": "code",
   "execution_count": 14,
   "metadata": {
    "umich_part_id": "021",
    "umich_partlist_id": "004"
   },
   "outputs": [
    {
     "name": "stdout",
     "output_type": "stream",
     "text": [
      "             State                    RegionName\n",
      "0          Alabama                        Auburn\n",
      "1          Alabama                      Florence\n",
      "2          Alabama                  Jacksonville\n",
      "3          Alabama                    Livingston\n",
      "4          Alabama                    Montevallo\n",
      "5          Alabama                          Troy\n",
      "6          Alabama                    Tuscaloosa\n",
      "7          Alabama                      Tuskegee\n",
      "8           Alaska                     Fairbanks\n",
      "9          Arizona                     Flagstaff\n",
      "10         Arizona                         Tempe\n",
      "11         Arizona                        Tucson\n",
      "12        Arkansas                   Arkadelphia\n",
      "13        Arkansas                        Conway\n",
      "14        Arkansas                  Fayetteville\n",
      "15        Arkansas                     Jonesboro\n",
      "16        Arkansas                      Magnolia\n",
      "17        Arkansas                    Monticello\n",
      "18        Arkansas                  Russellville\n",
      "19        Arkansas                        Searcy\n",
      "20      California                        Angwin\n",
      "21      California                        Arcata\n",
      "22      California                      Berkeley\n",
      "23      California                         Chico\n",
      "24      California                     Claremont\n",
      "25      California                        Cotati\n",
      "26      California                         Davis\n",
      "27      California                        Irvine\n",
      "28      California                    Isla Vista\n",
      "29      California  University Park, Los Angeles\n",
      "..             ...                           ...\n",
      "487       Virginia                          Wise\n",
      "488       Virginia                    Chesapeake\n",
      "489     Washington                    Bellingham\n",
      "490     Washington                        Cheney\n",
      "491     Washington                    Ellensburg\n",
      "492     Washington                       Pullman\n",
      "493     Washington  University District, Seattle\n",
      "494  West Virginia                        Athens\n",
      "495  West Virginia                    Buckhannon\n",
      "496  West Virginia                      Fairmont\n",
      "497  West Virginia                     Glenville\n",
      "498  West Virginia                    Huntington\n",
      "499  West Virginia                    Montgomery\n",
      "500  West Virginia                    Morgantown\n",
      "501  West Virginia                 Shepherdstown\n",
      "502  West Virginia                  West Liberty\n",
      "503      Wisconsin                      Appleton\n",
      "504      Wisconsin                    Eau Claire\n",
      "505      Wisconsin                     Green Bay\n",
      "506      Wisconsin                     La Crosse\n",
      "507      Wisconsin                       Madison\n",
      "508      Wisconsin                     Menomonie\n",
      "509      Wisconsin                     Milwaukee\n",
      "510      Wisconsin                       Oshkosh\n",
      "511      Wisconsin                   Platteville\n",
      "512      Wisconsin                   River Falls\n",
      "513      Wisconsin                 Stevens Point\n",
      "514      Wisconsin                      Waukesha\n",
      "515      Wisconsin                    Whitewater\n",
      "516        Wyoming                       Laramie\n",
      "\n",
      "[517 rows x 2 columns]\n"
     ]
    }
   ],
   "source": [
    "def get_list_of_university_towns():\n",
    "    '''Returns a DataFrame of towns and the states they are in from the \n",
    "    university_towns.txt list. The format of the DataFrame should be:\n",
    "    DataFrame( [ [\"Michigan\", \"Ann Arbor\"], [\"Michigan\", \"Yipsilanti\"] ], \n",
    "    columns=[\"State\", \"RegionName\"]  )\n",
    "    \n",
    "    The following cleaning needs to be done:\n",
    "    \n",
    "    1. For \"State\", removing characters from \"[\" to the end.\n",
    "    2. For \"RegionName\", when applicable, removing every character from \" (\" to the end.\n",
    "    3. Depending on how you read the data, you may need to remove newline character '\\n'. '''\n",
    "    import re\n",
    "    data = []\n",
    "    search_string = \"edit\"\n",
    "    raw_string = r\"[\\[]\" + r\"\\b\" + search_string + r\"\\b\" + r\"[\\]]\"\n",
    "    sep = '('\n",
    "    statename = \"\"\n",
    "    with open(\"university_towns.txt\", \"r\") as file:\n",
    "        for line in file:\n",
    "            if re.search(raw_string, line):\n",
    "                statename = re.sub(raw_string, '', line).rstrip(\"\\n\")\n",
    "            else: \n",
    "                regionName = line.split(sep, 1)[0].rstrip()\n",
    "                data.append([statename, regionName])\n",
    "    \n",
    "        towns_df = pd.DataFrame(data, columns = ['State', 'RegionName'])                       \n",
    "        #print(towns_df.shape)\n",
    "        #print(towns_df.head())\n",
    "    return towns_df\n",
    "\n",
    "#print(get_list_of_university_towns())\n",
    "#\"ANSWER\""
   ]
  },
  {
   "cell_type": "code",
   "execution_count": 29,
   "metadata": {
    "collapsed": true,
    "umich_part_id": "022",
    "umich_partlist_id": "004"
   },
   "outputs": [],
   "source": [
    "def get_recession_start():\n",
    "    '''Returns the year and quarter of the recession start time as a \n",
    "    string value in a format such as 2005q3'''\n",
    "    gdpxls = pd.read_excel('gdplev.xls', skiprows = 219)\n",
    "    #print(gdpxls.columns)\n",
    "    gdpxls = gdpxls.drop(gdpxls.columns[[0, 1, 2, 3, 7]], axis = 1)\n",
    "    gdpxls.columns = ['Quarter', 'GDP', 'GDP2009']\n",
    "    #print(gdpxls.head())\n",
    "    #print(gdpxls['GDP'][0])\n",
    "    #print(gdpxls['GDP'][1])\n",
    "    #print(gdpxls['GDP'][2])\n",
    "    #print(gdpxls['Quarter'][0])\n",
    "    for i in range(2, len(gdpxls)):\n",
    "        if (gdpxls['GDP'][i-2] > gdpxls['GDP'][i-1]) and (gdpxls['GDP'][i - 1] > gdpxls['GDP'][i]):\n",
    "            return gdpxls['Quarter'][i-2]\n",
    "    ##return \n",
    "#get_recession_start()\n",
    "#\"ANSWER\""
   ]
  },
  {
   "cell_type": "code",
   "execution_count": 31,
   "metadata": {
    "umich_part_id": "023",
    "umich_partlist_id": "004"
   },
   "outputs": [
    {
     "data": {
      "text/plain": [
       "'2009q4'"
      ]
     },
     "execution_count": 31,
     "metadata": {},
     "output_type": "execute_result"
    }
   ],
   "source": [
    "def get_recession_end():\n",
    "    '''Returns the year and quarter of the recession end time as a \n",
    "    string value in a format such as 2005q3'''\n",
    "    gdpxls = pd.read_excel('gdplev.xls', skiprows = 219)\n",
    "    #print(gdpxls.columns)\n",
    "    gdpxls = gdpxls.drop(gdpxls.columns[[0, 1, 2, 3, 7]], axis = 1)\n",
    "    gdpxls.columns = ['Quarter', 'GDP', 'GDP2009']\n",
    "    start_year = get_recession_start()\n",
    "    idx = gdpxls[gdpxls['Quarter'] == start_year].index[0]\n",
    "    for i in range(idx+3, len(gdpxls)):\n",
    "        if (gdpxls['GDP'][i-2] < gdpxls['GDP'][i-1]) and (gdpxls['GDP'][i-1] < gdpxls['GDP'][i]):\n",
    "            return gdpxls['Quarter'][i]\n",
    "        \n",
    "# get_recession_end()\n",
    "#    return \n",
    "#\"ANSWER\""
   ]
  },
  {
   "cell_type": "code",
   "execution_count": 32,
   "metadata": {
    "umich_part_id": "024",
    "umich_partlist_id": "004"
   },
   "outputs": [
    {
     "data": {
      "text/plain": [
       "'2009q2'"
      ]
     },
     "execution_count": 32,
     "metadata": {},
     "output_type": "execute_result"
    }
   ],
   "source": [
    "def get_recession_bottom():\n",
    "    '''Returns the year and quarter of the recession bottom time as a \n",
    "    string value in a format such as 2005q3'''\n",
    "    gdpxls = pd.read_excel('gdplev.xls', skiprows = 219)\n",
    "    #print(gdpxls.columns)\n",
    "    gdpxls = gdpxls.drop(gdpxls.columns[[0, 1, 2, 3, 7]], axis = 1)\n",
    "    gdpxls.columns = ['Quarter', 'GDP', 'GDP2009']\n",
    "    start_year = get_recession_start()\n",
    "    start_idx = gdpxls[gdpxls['Quarter'] == start_year].index[0]\n",
    "    end_year = get_recession_end()\n",
    "    end_idx = gdpxls[gdpxls['Quarter'] == end_year].index[0]\n",
    "    #print(start_idx)\n",
    "    #print(end_idx)\n",
    "    gdp = gdpxls[start_idx: end_idx + 1]\n",
    "    ans = gdp['GDP'].min()\n",
    "    #print(ans)\n",
    "    bottom_idx = gdpxls[gdpxls['GDP'] == ans].index[0]\n",
    "    return gdpxls['Quarter'][bottom_idx]\n",
    "    #return \"ANSWER\"\n",
    "#get_recession_bottom()"
   ]
  },
  {
   "cell_type": "code",
   "execution_count": 20,
   "metadata": {
    "collapsed": true,
    "umich_part_id": "025",
    "umich_partlist_id": "004"
   },
   "outputs": [],
   "source": [
    "def convert_housing_data_to_quarters():\n",
    "    '''Converts the housing data to quarters and returns it as mean \n",
    "    values in a dataframe. This dataframe should be a dataframe with\n",
    "    columns for 2000q1 through 2016q3, and should have a multi-index\n",
    "    in the shape of [\"State\",\"RegionName\"].\n",
    "    \n",
    "    Note: Quarters are defined in the assignment description, they are\n",
    "    not arbitrary three month periods.\n",
    "    \n",
    "    The resulting dataframe should have 67 columns, and 10,730 rows.\n",
    "    '''\n",
    "    df = pd.read_csv('City_Zhvi_AllHomes.csv')\n",
    "    #print(hdata.columns[[0]+list(range(3,51))])\n",
    "    df = df.drop(df.columns[[0]+list(range(3,51))],axis=1)\n",
    "    quarters_df = pd.DataFrame(df[['State','RegionName']])\n",
    "    #print(quarters_df.head())\n",
    "    for year in range(2000, 2016):\n",
    "        quarters_df[str(year) + 'q1'] = df[[str(year) + '-01', str(year) + '-02', str(year) + '-03']].mean(axis = 1)\n",
    "        quarters_df[str(year) + 'q2'] = df[[str(year) + '-04', str(year) + '-05', str(year) + '-06']].mean(axis = 1)\n",
    "        quarters_df[str(year) + 'q3'] = df[[str(year) + '-07', str(year) + '-08', str(year) + '-09']].mean(axis = 1)\n",
    "        quarters_df[str(year) + 'q4'] = df[[str(year) + '-10', str(year) + '-11', str(year) + '-12']].mean(axis = 1)\n",
    "    year = 2016\n",
    "    quarters_df[str(year) + 'q1'] = df[[str(year) + '-01', str(year) + '-02', str(year) + '-03']].mean(axis = 1)\n",
    "    quarters_df[str(year) + 'q2'] = df[[str(year) + '-04', str(year) + '-05', str(year) + '-06']].mean(axis = 1)\n",
    "    quarters_df[str(year) + 'q3'] = df[[str(year) + '-07', str(year) + '-08']].mean(axis = 1)\n",
    "    quarters_df.replace({\"State\": states}, inplace = True)\n",
    "    quarters_df.set_index(['State', 'RegionName'], inplace = True)\n",
    "    #print(quarters_df.head())\n",
    "    #print(quarters_df.shape)\n",
    "    #df = pd.DataFrame(index_col = [\"State\", \"RegionName\"])\n",
    "    #df = pd.read_csv(\"City_Zhvi_AllHomes.csv\", index_col = [\"State\", \"RegionName\"])\n",
    "    #df = df.loc[:, '2000-01':]\n",
    "    #df['2000q1'] = df[['2000-01', '2000-02', '2000-03']].mean(axis = 1).rename('2000q1') #.rename('2000q1')\n",
    "    #print(hdata.columns)\n",
    "    #print(new_col)\n",
    "    #df[['2006', '2007']].mean(axis = 1).rename('avgGDP')\n",
    "    #print(tuple(df.columns).split())\n",
    "    #print(df.drop(columns = [df.columns[:4].split()], axis = 1))\n",
    "    #print(df.head())\n",
    "    return quarters_df\n",
    "#convert_housing_data_to_quarters().loc[\"Texas\"].loc[\"Austin\"].loc[\"2010q3\"]\n",
    "#convert_housing_data_to_quarters()\n",
    "#\"ANSWER\""
   ]
  },
  {
   "cell_type": "code",
   "execution_count": 33,
   "metadata": {
    "umich_part_id": "026",
    "umich_partlist_id": "004"
   },
   "outputs": [
    {
     "data": {
      "text/plain": [
       "(True, 0.00036641601595526971, 'university town')"
      ]
     },
     "execution_count": 33,
     "metadata": {},
     "output_type": "execute_result"
    }
   ],
   "source": [
    "def run_ttest():\n",
    "    '''First creates new data showing the decline or growth of housing prices\n",
    "    between the recession start and the recession bottom. Then runs a ttest\n",
    "    comparing the university town values to the non-university towns values, \n",
    "    return whether the alternative hypothesis (that the two groups are the same)\n",
    "    is true or not as well as the p-value of the confidence. \n",
    "    \n",
    "    Return the tuple (different, p, better) where different=True if the t-test is\n",
    "    True at a p<0.01 (we reject the null hypothesis), or different=False if \n",
    "    otherwise (we cannot reject the null hypothesis). The variable p should\n",
    "    be equal to the exact p value returned from scipy.stats.ttest_ind(). The\n",
    "    value for better should be either \"university town\" or \"non-university town\"\n",
    "    depending on which has a lower mean price ratio (which is equivilent to a\n",
    "    reduced market loss).'''\n",
    "    data = convert_housing_data_to_quarters().copy()\n",
    "    data = data.loc[:,'2008q3':'2009q2']\n",
    "    data = data.reset_index()\n",
    "    def price_ratio(row):\n",
    "        return (row['2008q3'] - row['2009q2'])/row['2008q3']\n",
    "    \n",
    "    data['up&down'] = data.apply(price_ratio,axis=1)\n",
    "    #uni data \n",
    "    \n",
    "    uni_town = get_list_of_university_towns()['RegionName']\n",
    "    uni_town = set(uni_town)\n",
    "\n",
    "    def is_uni_town(row):\n",
    "        #check if the town is a university towns or not.\n",
    "        if row['RegionName'] in uni_town:\n",
    "            return 1\n",
    "        else:\n",
    "            return 0\n",
    "    data['is_uni'] = data.apply(is_uni_town,axis=1)\n",
    "    \n",
    "    \n",
    "    not_uni = data[data['is_uni']==0].loc[:,'up&down'].dropna()\n",
    "    is_uni  = data[data['is_uni']==1].loc[:,'up&down'].dropna()\n",
    "    def better():\n",
    "        if not_uni.mean() < is_uni.mean():\n",
    "            return 'non-university town'\n",
    "        else:\n",
    "            return 'university town'\n",
    "    p_val = list(ttest_ind(not_uni, is_uni))[1]\n",
    "    result = (True,p_val,better())\n",
    "    return result\n",
    "#run_ttest()\n",
    "    #return \"ANSWER\""
   ]
  },
  {
   "cell_type": "code",
   "execution_count": null,
   "metadata": {
    "collapsed": true
   },
   "outputs": [],
   "source": []
  }
 ],
 "metadata": {
  "coursera": {
   "course_slug": "python-data-analysis",
   "graded_item_id": "Il9Fx",
   "launcher_item_id": "TeDW0",
   "part_id": "WGlun"
  },
  "kernelspec": {
   "display_name": "Python 3",
   "language": "python",
   "name": "python3"
  },
  "language_info": {
   "codemirror_mode": {
    "name": "ipython",
    "version": 3
   },
   "file_extension": ".py",
   "mimetype": "text/x-python",
   "name": "python",
   "nbconvert_exporter": "python",
   "pygments_lexer": "ipython3",
   "version": "3.6.2"
  },
  "umich": {
   "id": "Assignment 4",
   "version": "1.1"
  }
 },
 "nbformat": 4,
 "nbformat_minor": 1
}
